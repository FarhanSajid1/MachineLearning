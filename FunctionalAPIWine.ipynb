{
  "nbformat": 4,
  "nbformat_minor": 0,
  "metadata": {
    "colab": {
      "name": "Functional API Wine Dataset.ipynb",
      "version": "0.3.2",
      "provenance": [],
      "include_colab_link": true
    },
    "kernelspec": {
      "name": "python3",
      "display_name": "Python 3"
    },
    "accelerator": "TPU"
  },
  "cells": [
    {
      "cell_type": "markdown",
      "metadata": {
        "id": "view-in-github",
        "colab_type": "text"
      },
      "source": [
        "<a href=\"https://colab.research.google.com/github/FarhanSajid1/MachineLearning/blob/master/FunctionalAPIWine.ipynb\" target=\"_parent\"><img src=\"https://colab.research.google.com/assets/colab-badge.svg\" alt=\"Open In Colab\"/></a>"
      ]
    },
    {
      "metadata": {
        "id": "6sL6IKe6utWx",
        "colab_type": "code",
        "outputId": "a468a73a-2f32-4c1a-ced0-b34826332c2f",
        "colab": {
          "base_uri": "https://localhost:8080/",
          "height": 51
        }
      },
      "cell_type": "code",
      "source": [
        "import pandas as pd\n",
        "import numpy as np\n",
        "import tensorflow as tf\n",
        "\n",
        "# from google.colab import files\n",
        "# import os\n",
        "# uploaded = files.upload()\n",
        "URL = \"https://storage.googleapis.com/sara-cloud-ml/wine_data.csv\"\n",
        "path = tf.keras.utils.get_file(URL.split('/')[-1], URL)"
      ],
      "execution_count": 0,
      "outputs": [
        {
          "output_type": "stream",
          "text": [
            "Downloading data from https://storage.googleapis.com/sara-cloud-ml/wine_data.csv\n",
            "49790976/49783940 [==============================] - 0s 0us/step\n"
          ],
          "name": "stdout"
        }
      ]
    },
    {
      "metadata": {
        "id": "c3qCZ1zsu12h",
        "colab_type": "code",
        "outputId": "074be4fe-f459-4093-b53f-6d0ce9f3dfb1",
        "colab": {
          "base_uri": "https://localhost:8080/",
          "height": 765
        }
      },
      "cell_type": "code",
      "source": [
        "import pandas as pd\n",
        "import numpy as np\n",
        "\n",
        "df = pd.read_csv(path)\n",
        "print(df.info())\n",
        "print(df.head())\n"
      ],
      "execution_count": 0,
      "outputs": [
        {
          "output_type": "stream",
          "text": [
            "<class 'pandas.core.frame.DataFrame'>\n",
            "RangeIndex: 150929 entries, 0 to 150928\n",
            "Data columns (total 11 columns):\n",
            "Unnamed: 0     150929 non-null int64\n",
            "country        150924 non-null object\n",
            "description    150929 non-null object\n",
            "designation    105195 non-null object\n",
            "points         150929 non-null int64\n",
            "price          137234 non-null float64\n",
            "province       150924 non-null object\n",
            "region_1       125870 non-null object\n",
            "region_2       60953 non-null object\n",
            "variety        150929 non-null object\n",
            "winery         150929 non-null object\n",
            "dtypes: float64(1), int64(2), object(8)\n",
            "memory usage: 12.7+ MB\n",
            "None\n",
            "   Unnamed: 0 country                                        description  \\\n",
            "0           0      US  This tremendous 100% varietal wine hails from ...   \n",
            "1           1   Spain  Ripe aromas of fig, blackberry and cassis are ...   \n",
            "2           2      US  Mac Watson honors the memory of a wine once ma...   \n",
            "3           3      US  This spent 20 months in 30% new French oak, an...   \n",
            "4           4  France  This is the top wine from La Bégude, named aft...   \n",
            "\n",
            "                            designation  points  price        province  \\\n",
            "0                     Martha's Vineyard      96  235.0      California   \n",
            "1  Carodorum Selección Especial Reserva      96  110.0  Northern Spain   \n",
            "2         Special Selected Late Harvest      96   90.0      California   \n",
            "3                               Reserve      96   65.0          Oregon   \n",
            "4                            La Brûlade      95   66.0        Provence   \n",
            "\n",
            "            region_1           region_2             variety  \\\n",
            "0        Napa Valley               Napa  Cabernet Sauvignon   \n",
            "1               Toro                NaN       Tinta de Toro   \n",
            "2     Knights Valley             Sonoma     Sauvignon Blanc   \n",
            "3  Willamette Valley  Willamette Valley          Pinot Noir   \n",
            "4             Bandol                NaN  Provence red blend   \n",
            "\n",
            "                    winery  \n",
            "0                    Heitz  \n",
            "1  Bodega Carmen Rodríguez  \n",
            "2                 Macauley  \n",
            "3                    Ponzi  \n",
            "4     Domaine de la Bégude  \n"
          ],
          "name": "stdout"
        }
      ]
    },
    {
      "metadata": {
        "id": "uAIHWmAD5WQ8",
        "colab_type": "code",
        "outputId": "5e5188c5-c14b-4617-d1e9-753e8ed20ebb",
        "colab": {
          "base_uri": "https://localhost:8080/",
          "height": 289
        }
      },
      "cell_type": "code",
      "source": [
        "#preprocessing dropping all NA values\n",
        "df.dropna(inplace=True)\n",
        "\n",
        "df.info()"
      ],
      "execution_count": 0,
      "outputs": [
        {
          "output_type": "stream",
          "text": [
            "<class 'pandas.core.frame.DataFrame'>\n",
            "Int64Index: 39241 entries, 0 to 150915\n",
            "Data columns (total 11 columns):\n",
            "Unnamed: 0     39241 non-null int64\n",
            "country        39241 non-null object\n",
            "description    39241 non-null object\n",
            "designation    39241 non-null object\n",
            "points         39241 non-null int64\n",
            "price          39241 non-null float64\n",
            "province       39241 non-null object\n",
            "region_1       39241 non-null object\n",
            "region_2       39241 non-null object\n",
            "variety        39241 non-null object\n",
            "winery         39241 non-null object\n",
            "dtypes: float64(1), int64(2), object(8)\n",
            "memory usage: 3.6+ MB\n"
          ],
          "name": "stdout"
        }
      ]
    },
    {
      "metadata": {
        "id": "UduRR8LZ5_X8",
        "colab_type": "code",
        "outputId": "c41de0cd-1d19-4c82-9851-fdadef403734",
        "colab": {
          "base_uri": "https://localhost:8080/",
          "height": 34
        }
      },
      "cell_type": "code",
      "source": [
        "#determining how many unique varieties there are\n",
        "\n",
        "print(len(df['variety'].unique())) # we have 180 different varieties\n"
      ],
      "execution_count": 0,
      "outputs": [
        {
          "output_type": "stream",
          "text": [
            "180\n"
          ],
          "name": "stdout"
        }
      ]
    },
    {
      "metadata": {
        "id": "6_jaTT888AqT",
        "colab_type": "code",
        "colab": {}
      },
      "cell_type": "code",
      "source": [
        "def finding_maxlen(text):\n",
        "  len_tokens=[len(token) for token in text]\n",
        "  mean_value = np.mean(len_tokens) # 76.40 is the mean\n",
        "  print(np.max(len_tokens)) # 140\n",
        "  print(mean_value) # 76.40\n",
        "  max_len = int(mean_value + 1* np.std(len_tokens))\n",
        "  return max_len"
      ],
      "execution_count": 0,
      "outputs": []
    },
    {
      "metadata": {
        "id": "dwktICqf6e36",
        "colab_type": "code",
        "outputId": "53b6310a-c232-41c5-816b-c0712247074b",
        "colab": {
          "base_uri": "https://localhost:8080/",
          "height": 51
        }
      },
      "cell_type": "code",
      "source": [
        "#creating the embedding layer for the descriptions \n",
        "\n",
        "from keras.preprocessing.text import Tokenizer \n",
        "from keras.preprocessing.sequence import pad_sequences\n",
        "\n",
        "def tokenize_data(data, words= 10000):\n",
        "  max_words = words\n",
        "  max_len = finding_maxlen(data)\n",
        "  #determining the number of words that should be the cut off\n",
        "  \n",
        "  tokenizer= Tokenizer(num_words= max_words)\n",
        "  tokenizer.fit_on_texts(data)\n",
        "  sequences = tokenizer.texts_to_sequences(data) # convert to integers\n",
        "  \n",
        "  new_data = pad_sequences(sequences, maxlen = max_len)\n",
        "  return new_data, tokenizer\n",
        "  \n",
        "\n",
        "text = df['description'].values\n",
        "\n",
        "X_description, tokenizer = tokenize_data(text) # X_description represents the padded sequences\n"
      ],
      "execution_count": 0,
      "outputs": [
        {
          "output_type": "stream",
          "text": [
            "764\n",
            "251.52931882469866\n"
          ],
          "name": "stdout"
        }
      ]
    },
    {
      "metadata": {
        "id": "EEPq21Kx83j3",
        "colab_type": "code",
        "outputId": "c6d41dd8-7d7f-4a48-da67-bee1fbf09aac",
        "colab": {
          "base_uri": "https://localhost:8080/",
          "height": 544
        }
      },
      "cell_type": "code",
      "source": [
        "X_description[0]"
      ],
      "execution_count": 0,
      "outputs": [
        {
          "output_type": "execute_result",
          "data": {
            "text/plain": [
              "array([   0,    0,    0,    0,    0,    0,    0,    0,    0,    0,    0,\n",
              "          0,    0,    0,    0,    0,    0,    0,    0,    0,    0,    0,\n",
              "          0,    0,    0,    0,    0,    0,    0,    0,    0,    0,    0,\n",
              "          0,    0,    0,    0,    0,    0,    0,    0,    0,    0,    0,\n",
              "          0,    0,    0,    0,    0,    0,    0,    0,    0,    0,    0,\n",
              "          0,    0,    0,    0,    0,    0,    0,    0,    0,    0,    0,\n",
              "          0,    0,    0,    0,    0,    0,    0,    0,    0,    0,    0,\n",
              "          0,    0,    0,    0,    0,    0,    0,    0,    0,    0,    0,\n",
              "          0,    0,    0,    0,    0,    0,    0,    0,    0,    0,    0,\n",
              "          0,    0,    0,    0,    0,    0,    0,    0,    0,    0,    0,\n",
              "          0,    0,    0,    0,    0,    0,    0,    0,    0,    0,    0,\n",
              "          0,    0,    0,    0,    0,    0,    0,    0,    0,    0,    0,\n",
              "          0,    0,    0,    0,    0,    0,    0,    0,    0,    0,    0,\n",
              "          0,    0,    0,    0,    0,    0,    0,    0,    0,    0,    0,\n",
              "          0,    0,    0,    0,    0,    0,    0,    0,    0,    0,    0,\n",
              "          0,    0,    0,    0,    0,    0,    0,    0,    0,    0,    0,\n",
              "          0,    0,    0,    0,    0,    0,    0,    0,    0,    0,    0,\n",
              "          0,    0,    0,    0,    0,    0,    0,    0,    0,    0,    0,\n",
              "          0,    0,    0,    0,    0,    0,    0,    0,    0,    0,    0,\n",
              "          0,    0,    0,    0,    0,    0,    0,    0,    0,    0,    0,\n",
              "          0,    0,    0,    0,    0,    0,    0,    0,    0,    0,    0,\n",
              "          0,    0,    0,    0,    0,    0,    0,    0,    0,    0,    0,\n",
              "          0,    0,    0,    0,    0,    0,    0,    0,    0,    0,    0,\n",
              "          0,    0,    0,    0,    0,    0,    0,    0,    0,    0,    0,\n",
              "          0,    0,    0,    0,    0,    0,    0,    6, 1010,  239,  318,\n",
              "         10, 2444,   21, 1560,    1,  195,  416,  116,  472,   48,    7,\n",
              "         22,  213,   39,   17,   14,    1,    3,  760,  233,    4,  237,\n",
              "       2875,    2,   49, 1173,   55,  112,   75,   20,    1,    3,  336,\n",
              "        715, 1706,    7,    2, 1485,  105,    1, 1683,   21, 1011,   12,\n",
              "         25,   11,   30,   48, 1561,    4,   11,   12,  210,  732, 1103,\n",
              "        506], dtype=int32)"
            ]
          },
          "metadata": {
            "tags": []
          },
          "execution_count": 7
        }
      ]
    },
    {
      "metadata": {
        "id": "xHPfqQBq87p6",
        "colab_type": "code",
        "colab": {}
      },
      "cell_type": "code",
      "source": [
        "# preprocessing the variety data\n",
        "from sklearn.preprocessing import LabelBinarizer\n",
        "\n",
        "X_variety = df['variety'].values\n",
        "encoder = LabelBinarizer()\n",
        "X_variety = encoder.fit_transform(X_variety)\n"
      ],
      "execution_count": 0,
      "outputs": []
    },
    {
      "metadata": {
        "id": "y5dAggf7-l4E",
        "colab_type": "code",
        "outputId": "bfead4c4-bd35-45e5-f832-ee497a80720b",
        "colab": {
          "base_uri": "https://localhost:8080/",
          "height": 170
        }
      },
      "cell_type": "code",
      "source": [
        "X_variety[0] #this is a one hot encoded array of 180 different varieties"
      ],
      "execution_count": 0,
      "outputs": [
        {
          "output_type": "execute_result",
          "data": {
            "text/plain": [
              "array([0, 0, 0, 0, 0, 0, 0, 0, 0, 0, 0, 0, 0, 0, 0, 0, 0, 0, 0, 0, 0, 0,\n",
              "       1, 0, 0, 0, 0, 0, 0, 0, 0, 0, 0, 0, 0, 0, 0, 0, 0, 0, 0, 0, 0, 0,\n",
              "       0, 0, 0, 0, 0, 0, 0, 0, 0, 0, 0, 0, 0, 0, 0, 0, 0, 0, 0, 0, 0, 0,\n",
              "       0, 0, 0, 0, 0, 0, 0, 0, 0, 0, 0, 0, 0, 0, 0, 0, 0, 0, 0, 0, 0, 0,\n",
              "       0, 0, 0, 0, 0, 0, 0, 0, 0, 0, 0, 0, 0, 0, 0, 0, 0, 0, 0, 0, 0, 0,\n",
              "       0, 0, 0, 0, 0, 0, 0, 0, 0, 0, 0, 0, 0, 0, 0, 0, 0, 0, 0, 0, 0, 0,\n",
              "       0, 0, 0, 0, 0, 0, 0, 0, 0, 0, 0, 0, 0, 0, 0, 0, 0, 0, 0, 0, 0, 0,\n",
              "       0, 0, 0, 0, 0, 0, 0, 0, 0, 0, 0, 0, 0, 0, 0, 0, 0, 0, 0, 0, 0, 0,\n",
              "       0, 0, 0, 0])"
            ]
          },
          "metadata": {
            "tags": []
          },
          "execution_count": 9
        }
      ]
    },
    {
      "metadata": {
        "id": "n55dV6Bh_APs",
        "colab_type": "code",
        "colab": {}
      },
      "cell_type": "code",
      "source": [
        "labels = df['price'].values"
      ],
      "execution_count": 0,
      "outputs": []
    },
    {
      "metadata": {
        "id": "BaSvPTmx_JEL",
        "colab_type": "code",
        "outputId": "32be6d29-ce92-4e16-8a64-ff9fa638bde3",
        "colab": {
          "base_uri": "https://localhost:8080/",
          "height": 34
        }
      },
      "cell_type": "code",
      "source": [
        "#last step is shuffling all the data \n",
        "\n",
        "indices = np.arange(X_description.shape[0]) # 39241\n",
        "print(len(indices))\n",
        "np.random.shuffle(indices)\n",
        "\n",
        "X_description = X_description[indices]\n",
        "X_variety = X_variety[indices]\n",
        "labels = labels[indices]\n",
        "\n",
        "training_split = int(len(text) *.8)\n",
        "\n",
        "\n",
        "X_description_train = X_description[:training_split] \n",
        "X_description_test = X_description[training_split:] \n",
        "\n",
        "X_variety_train = X_variety[:training_split]\n",
        "X_variety_test = X_variety[training_split:]\n",
        "\n",
        "train_labels = labels[:training_split]\n",
        "test_labels = labels[training_split:]"
      ],
      "execution_count": 0,
      "outputs": [
        {
          "output_type": "stream",
          "text": [
            "39241\n"
          ],
          "name": "stdout"
        }
      ]
    },
    {
      "metadata": {
        "id": "seQQAdqBBZoD",
        "colab_type": "code",
        "outputId": "600e8b4e-b313-41d4-b67e-f1ac6178609a",
        "colab": {
          "base_uri": "https://localhost:8080/",
          "height": 119
        }
      },
      "cell_type": "code",
      "source": [
        "print(X_description_train.shape)\n",
        "print(X_description_test.shape)\n",
        "print(X_variety_train.shape)\n",
        "print(X_variety_test.shape)\n",
        "print(train_labels.shape)\n",
        "print(test_labels.shape)\n"
      ],
      "execution_count": 0,
      "outputs": [
        {
          "output_type": "stream",
          "text": [
            "(31392, 331)\n",
            "(7849, 331)\n",
            "(31392, 180)\n",
            "(7849, 180)\n",
            "(31392,)\n",
            "(7849,)\n"
          ],
          "name": "stdout"
        }
      ]
    },
    {
      "metadata": {
        "id": "NcLeZGB-E-Xt",
        "colab_type": "code",
        "outputId": "848e2b08-b10e-47c2-fef0-07936c40a3e5",
        "colab": {
          "base_uri": "https://localhost:8080/",
          "height": 34
        }
      },
      "cell_type": "code",
      "source": [
        "num_classes = len(X_variety_train[1])\n",
        "num_classes"
      ],
      "execution_count": 0,
      "outputs": [
        {
          "output_type": "execute_result",
          "data": {
            "text/plain": [
              "180"
            ]
          },
          "metadata": {
            "tags": []
          },
          "execution_count": 13
        }
      ]
    },
    {
      "metadata": {
        "id": "L_SDznQRBsGT",
        "colab_type": "code",
        "outputId": "d66a99d0-cc56-421f-ed8e-67c7c00a9114",
        "colab": {
          "base_uri": "https://localhost:8080/",
          "height": 374
        }
      },
      "cell_type": "code",
      "source": [
        "'''Creating the architecture we must use the functional API'''\n",
        "from keras import Model\n",
        "from keras import layers, Input\n",
        "from keras.layers import GRU, Bidirectional\n",
        "\n",
        "text_input = Input(shape=(None,), name = 'Description')\n",
        "embedding_text = layers.Embedding(10000, 128)(text_input)\n",
        "# x = Bidirectional((GRU(128, return_sequences=True)))(embedding_text)\n",
        "# x = Bidirectional((GRU(64, return_sequences=True)))(x)\n",
        "out_x = Bidirectional((GRU(128)))(embedding_text)\n",
        "\n",
        "var_input = Input(shape=(num_classes,), name = 'Variety')\n",
        "dense = layers.Dense(256, activation = 'relu')(var_input)\n",
        "dense = layers.Dense(128, activation = 'relu')(dense)\n",
        "out_dense = layers.Dense(64, activation = 'relu')(dense)\n",
        "\n",
        "concatenate = layers.concatenate([out_x , out_dense], axis = -1)\n",
        "\n",
        "output = layers.Dense(1)(concatenate) # no activation for the regression output\n",
        "\n",
        "model = Model([text_input, var_input], output)\n",
        "model.compile(optimizer= 'adam', loss = 'mse', metrics = ['acc'])\n",
        "\n",
        "model.fit({'Description': X_description_train, 'Variety': X_variety_train}, train_labels, epochs = 10, batch_size = 128)\n"
      ],
      "execution_count": 0,
      "outputs": [
        {
          "output_type": "stream",
          "text": [
            "Epoch 1/10\n",
            "31392/31392 [==============================] - 539s 17ms/step - loss: 757.0255 - acc: 0.0239\n",
            "Epoch 2/10\n",
            "31392/31392 [==============================] - 538s 17ms/step - loss: 614.6376 - acc: 0.0327\n",
            "Epoch 3/10\n",
            "31392/31392 [==============================] - 538s 17ms/step - loss: 613.2917 - acc: 0.0321\n",
            "Epoch 4/10\n",
            "31392/31392 [==============================] - 538s 17ms/step - loss: 590.4163 - acc: 0.0334\n",
            "Epoch 5/10\n",
            "31392/31392 [==============================] - 542s 17ms/step - loss: 498.5753 - acc: 0.0347\n",
            "Epoch 6/10\n",
            "31392/31392 [==============================] - 545s 17ms/step - loss: 431.2135 - acc: 0.0407\n",
            "Epoch 7/10\n",
            "31392/31392 [==============================] - 541s 17ms/step - loss: 386.9984 - acc: 0.0411\n",
            "Epoch 8/10\n",
            "31392/31392 [==============================] - 539s 17ms/step - loss: 347.6040 - acc: 0.0452\n",
            "Epoch 9/10\n",
            "31392/31392 [==============================] - 539s 17ms/step - loss: 318.9744 - acc: 0.0514\n",
            "Epoch 10/10\n",
            "31392/31392 [==============================] - 539s 17ms/step - loss: 299.4340 - acc: 0.0497\n"
          ],
          "name": "stdout"
        },
        {
          "output_type": "execute_result",
          "data": {
            "text/plain": [
              "<keras.callbacks.History at 0x7f43b6150be0>"
            ]
          },
          "metadata": {
            "tags": []
          },
          "execution_count": 14
        }
      ]
    },
    {
      "metadata": {
        "id": "i0l-8UI8P2dg",
        "colab_type": "code",
        "colab": {}
      },
      "cell_type": "code",
      "source": [
        "model.save('Wine.h5')"
      ],
      "execution_count": 0,
      "outputs": []
    },
    {
      "metadata": {
        "id": "UBP4VoDOP1JX",
        "colab_type": "code",
        "outputId": "39b8039f-057b-4910-f125-09175847aee8",
        "colab": {
          "base_uri": "https://localhost:8080/",
          "height": 34
        }
      },
      "cell_type": "code",
      "source": [
        "# Install the PyDrive wrapper & import libraries.\n",
        "# This only needs to be done once in a notebook.\n",
        "!pip install -U -q PyDrive\n",
        "from pydrive.auth import GoogleAuth\n",
        "from pydrive.drive import GoogleDrive\n",
        "from google.colab import auth\n",
        "from oauth2client.client import GoogleCredentials\n",
        "\n",
        "# Authenticate and create the PyDrive client.\n",
        "# This only needs to be done once in a notebook.\n",
        "auth.authenticate_user()\n",
        "gauth = GoogleAuth()\n",
        "gauth.credentials = GoogleCredentials.get_application_default()\n",
        "drive = GoogleDrive(gauth)\n",
        "\n",
        "# Create & upload a file.\n",
        "uploaded = drive.CreateFile({'title': 'Wine.h5'})\n",
        "uploaded.SetContentFile('Wine.h5')\n",
        "uploaded.Upload()\n",
        "print('Uploaded file with ID {}'.format(uploaded.get('id')))"
      ],
      "execution_count": 0,
      "outputs": [
        {
          "output_type": "stream",
          "text": [
            "Uploaded file with ID 1smXvaP5LGTVFyu6ADsTAlsQmk2Vyrzms\n"
          ],
          "name": "stdout"
        }
      ]
    },
    {
      "metadata": {
        "id": "kQER1TSyieUS",
        "colab_type": "code",
        "outputId": "5d4bd8ba-0f49-4592-92a3-0ab17a71edd4",
        "colab": {
          "base_uri": "https://localhost:8080/",
          "height": 34
        }
      },
      "cell_type": "code",
      "source": [
        "predictions = model.evaluate({'Description': X_description_test, 'Variety': X_variety_test}, test_labels, batch_size = 128)"
      ],
      "execution_count": 0,
      "outputs": [
        {
          "output_type": "stream",
          "text": [
            "7849/7849 [==============================] - 36s 5ms/step\n"
          ],
          "name": "stdout"
        }
      ]
    },
    {
      "metadata": {
        "id": "3gjHfvGlisPH",
        "colab_type": "code",
        "colab": {}
      },
      "cell_type": "code",
      "source": [
        "predictions = model.predict({'Description': X_description_test, 'Variety': X_variety_test})"
      ],
      "execution_count": 0,
      "outputs": []
    },
    {
      "metadata": {
        "id": "nDtrFfGVklZx",
        "colab_type": "code",
        "outputId": "10dd721a-e2c6-46ba-89e9-8c974d808228",
        "colab": {
          "base_uri": "https://localhost:8080/",
          "height": 377
        }
      },
      "cell_type": "code",
      "source": [
        "num_predictions = 10\n",
        "diff = 0\n",
        "\n",
        "for i in range(num_predictions):\n",
        "  val = predictions[i]\n",
        "  reversed_text = tokens_to_string(X_description_test[i])\n",
        "  print(reversed_text)\n",
        "  print('predicted : ', val[0], 'actual: ', test_labels[i])\n",
        "  diff += abs(val[0] - test_labels[i])\n",
        "  \n",
        "  "
      ],
      "execution_count": 0,
      "outputs": [
        {
          "output_type": "stream",
          "text": [
            "this budget riesling sets a good standard for the style and the price it's off dry low alcohol 11 5 and solidly varietal the fruit is full bodied and ripe with vivid peach and apricot flavors additional notes of honey and lemony breakfast tea keep the finish up and running\n",
            "predicted :  7.758575 actual:  8.0\n",
            "a flamboyantly rich red wine brimming with ripe cherry blackberry raspberry red currant cola bacon cocoa and licorice flavors the tannins are soft and gentle but firm the main problem is an excessive sharpness that seems artificial drink now\n",
            "predicted :  30.780184 actual:  25.0\n",
            "made from a portuguese variety this port style wine has a residual sugar of 8 the flavors veer toward blackberries and dark chocolate it's also very tart yet it doesn't deliver enough richness and it finishes hot your mouth longs for more fruit richness complexity drink now\n",
            "predicted :  25.266695 actual:  25.0\n",
            "too hot and overripe with a raisiny edge to the chocolate and blackberry flavors the official alcohol is 15 5\n",
            "predicted :  35.564697 actual:  30.0\n",
            "cloudy pungent and supremely earthy this wine reveals its delicate acidity over time bringing balance to its flamboyant fruit with intense strawberry orange peel and black tea flavors it's savory and richly built finishing on a touch of smoky vanilla\n",
            "predicted :  32.08704 actual:  60.0\n",
            "the mark series from anam cara represents a sort of mini reserve all estate grown with a selection of what the winemaker considers to be the “boldest” clones it has full bodied flavors of cherry and sassafras accented with cinnamon and cocoa the barrel spices outlast the fruit—perhaps just an indication of youth there is potential for considerable improvement with bottle age\n",
            "predicted :  78.742546 actual:  65.0\n",
            "this tempranillo and cabernet sauvignon blend has rich blackberry cherry currant licorice and sandalwood flavors it's dry and quite acidic with a tart clean mouthfeel and a silky texture drink now\n",
            "predicted :  28.403957 actual:  24.0\n",
            "drinking very nicely this wine bursts from the glass with rich aromas of cherry chocolate truffle and loam the fruit factor is ramped up delicious and coats the palate with bright cherry candy flavors but this is more than a fruit bomb the acidity and ripe tannins balance it out as it runs into a clean lengthy finish\n",
            "predicted :  63.49536 actual:  75.0\n",
            "here's a bright dry and very fruity wine it has zinfandel like flavors of wild red and black berries and stone fruits with lots of dusty indian spices and vanilla caramel flavors from oak the acidity tastes a bit unnatural given the high alcohol but it's a good rich wine\n",
            "predicted :  19.458721 actual:  31.0\n",
            "at the age of about five years this cab is quite soft and dry and the fruit is just beginning to show development it's changing from fresh blackberries and cherries to dried fruits and currants with a dusty quality the oak brings in sweetly welcome notes should glide into maturity through 2012\n",
            "predicted :  61.51243 actual:  69.0\n"
          ],
          "name": "stdout"
        }
      ]
    },
    {
      "metadata": {
        "id": "XjdqffDtnUUw",
        "colab_type": "code",
        "outputId": "1f0c1f7c-48b9-4647-a5e9-9a536fd37f91",
        "colab": {
          "base_uri": "https://localhost:8080/",
          "height": 34
        }
      },
      "cell_type": "code",
      "source": [
        "print(diff)"
      ],
      "execution_count": 0,
      "outputs": [
        {
          "output_type": "stream",
          "text": [
            "88.44595384597778\n"
          ],
          "name": "stdout"
        }
      ]
    },
    {
      "metadata": {
        "id": "AqiX8pfmmIjq",
        "colab_type": "code",
        "colab": {}
      },
      "cell_type": "code",
      "source": [
        "idx = tokenizer.word_index\n",
        "inverse_map = dict(zip(idx.values(), idx.keys()))\n",
        "\n",
        "def tokens_to_string(tokens):\n",
        "    # Map from tokens back to words.\n",
        "    words = [inverse_map[token] for token in tokens if token != 0]\n",
        "    \n",
        "    # Concatenate all words.\n",
        "    text = \" \".join(words)\n",
        "\n",
        "    return text"
      ],
      "execution_count": 0,
      "outputs": []
    },
    {
      "metadata": {
        "id": "qzT9mGbDmg-a",
        "colab_type": "code",
        "outputId": "c700e468-6189-47ed-8dc4-4b0590ef6b9c",
        "colab": {
          "base_uri": "https://localhost:8080/",
          "height": 71
        }
      },
      "cell_type": "code",
      "source": [
        "text = tokens_to_string(X_description_test[1])\n",
        "text\n",
        "print(text)\n",
        "print(test_labels[1])"
      ],
      "execution_count": 0,
      "outputs": [
        {
          "output_type": "stream",
          "text": [
            "a flamboyantly rich red wine brimming with ripe cherry blackberry raspberry red currant cola bacon cocoa and licorice flavors the tannins are soft and gentle but firm the main problem is an excessive sharpness that seems artificial drink now\n",
            "25.0\n"
          ],
          "name": "stdout"
        }
      ]
    },
    {
      "metadata": {
        "id": "SVE15JvTm1Th",
        "colab_type": "code",
        "colab": {}
      },
      "cell_type": "code",
      "source": [
        ""
      ],
      "execution_count": 0,
      "outputs": []
    }
  ]
}